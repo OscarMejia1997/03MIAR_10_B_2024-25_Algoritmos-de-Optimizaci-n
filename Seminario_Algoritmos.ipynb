{
 "cells": [
  {
   "cell_type": "markdown",
   "metadata": {
    "id": "hVbXYX-RfPWh"
   },
   "source": [
    "# Algoritmos de optimización - Seminario<br>\n",
    "Nombre y Apellidos:  Oscar Rodolfo Mejia Fernandez <br>\n",
    "Url: <br>\n",
    "Problema:\n",
    "> 1. Sesiones de doblaje <br>\n",
    "\n",
    "Descripción del problema:(copiar enunciado)\n",
    "\n",
    "Se precisa coordinar el doblaje de una película. Los actores del doblaje deben coincidir en las tomas en las que sus personajes aparecen juntos en las diferentes tomas. Los actores de doblaje cobran toda la misma cantidad por cada día que deben desplazarse hasta el estudio de grabación independientemente del número de tomas que se graben. No es posible grabar más de 6 tomas por día. El objetivo es planificar las sesiones por día de manera que el gasto por los servicios de los actores de doblaje sea el menor posible. Los datos son:<br>\n",
    "Número de actores: 10<br>\n",
    "Número de tomas : 30<br>\n",
    "Actores/Tomas : https://bit.ly/36D8IuK\n",
    "- 1 indica que el actor participa en la toma\n",
    "- 0 en caso contrario\n",
    "\n",
    "(*) La respuesta es obligatoria\n",
    "\n",
    "\n",
    "\n",
    "\n",
    "\n",
    "                                        "
   ]
  },
  {
   "cell_type": "code",
   "execution_count": 1,
   "metadata": {},
   "outputs": [],
   "source": [
    "import pandas as pd\n",
    "import numpy as np\n",
    "from itertools import combinations\n",
    "from functools import lru_cache\n",
    "import random"
   ]
  },
  {
   "cell_type": "code",
   "execution_count": 2,
   "metadata": {
    "id": "AiskKkzZfy4e"
   },
   "outputs": [
    {
     "name": "stdout",
     "output_type": "stream",
     "text": [
      "\n",
      "Número total de sesiones: 5\n",
      "Costo total (sumatoria de días por actor): 25\n",
      "\n",
      "Sesión 1: Tomas [7, 8, 9, 17, 19, 22] - Actores [1, 2, 5] - Costo: 3\n",
      "Sesión 2: Tomas [2, 5, 18, 21, 24, 26] - Actores [2, 3, 4, 5] - Costo: 4\n",
      "Sesión 3: Tomas [4, 13, 14, 20, 28, 29] - Actores [1, 2, 4, 5] - Costo: 4\n",
      "Sesión 4: Tomas [1, 6, 12, 15, 23, 25] - Actores [1, 2, 3, 4, 5] - Costo: 5\n",
      "Sesión 5: Tomas [3, 10, 11, 16, 27, 30] - Actores [1, 2, 3, 4, 5, 6, 7, 9, 10] - Costo: 9\n"
     ]
    }
   ],
   "source": [
    "# Cargar la matriz desde un archivo CSV\n",
    "df = pd.read_csv('tomas_actores.csv')\n",
    "tomas = df.iloc[:, 1:].values  # omitimos la columna \"Toma\"\n",
    "\n",
    "# Variables del problema\n",
    "num_tomas = tomas.shape[0]\n",
    "max_tomas_por_dia = 6\n",
    "tomas_disponibles = set(range(num_tomas))\n",
    "sesiones = []\n",
    "\n",
    "# Algoritmo voraz: seleccionar combinaciones de hasta 6 tomas\n",
    "while tomas_disponibles:\n",
    "    mejor_sesion = None\n",
    "    mejor_costo = float('inf')\n",
    "    \n",
    "    # Probar combinaciones de 6, 5, ..., 1 tomas\n",
    "    for r in range(max_tomas_por_dia, 0, -1):\n",
    "        for comb in combinations(tomas_disponibles, r):\n",
    "            actores_usados = np.any(tomas[list(comb)], axis=0)\n",
    "            costo = np.sum(actores_usados)\n",
    "            if costo < mejor_costo:\n",
    "                mejor_costo = costo\n",
    "                mejor_sesion = comb\n",
    "        if mejor_sesion:\n",
    "            break  # Encontramos una buena combinación\n",
    "\n",
    "    # Guardar la sesión y actualizar tomas disponibles\n",
    "    sesiones.append({\n",
    "        'tomas': mejor_sesion,\n",
    "        'actores_involucrados': list(np.where(np.any(tomas[list(mejor_sesion)], axis=0))[0] + 1),\n",
    "        'costo': mejor_costo\n",
    "    })\n",
    "    tomas_disponibles -= set(mejor_sesion)\n",
    "\n",
    "# Resultados\n",
    "costo_total = sum(s['costo'] for s in sesiones)\n",
    "print(f\"\\nNúmero total de sesiones: {len(sesiones)}\")\n",
    "print(f\"Costo total (sumatoria de días por actor): {costo_total}\\n\")\n",
    "\n",
    "for i, sesion in enumerate(sesiones, 1):\n",
    "    print(f\"Sesión {i}: Tomas {list(np.array(sesion['tomas']) + 1)} - Actores {sesion['actores_involucrados']} - Costo: {sesion['costo']}\")\n"
   ]
  },
  {
   "cell_type": "markdown",
   "metadata": {
    "id": "3_-exlrTgLd-"
   },
   "source": [
    "**(*)¿Cuantas posibilidades hay sin tener en cuenta las restricciones?<br>**"
   ]
  },
  {
   "cell_type": "markdown",
   "metadata": {
    "id": "WfCUqJyKhPcw"
   },
   "source": [
    "Sin tener en cuenta las restricciones, lo que buscamos es saber cuántas maneras diferentes podemos agrupar las 30 tomas en sesiones de entre 1 y 6 tomas por sesión. Esto se trata de encontrar las particiones del conjunto {1, ..., 30} en subconjuntos, asegurándonos de que cada grupo no tenga más de 6 elementos. Aunque este es un problema complicado de resolver por su naturaleza de particiones con límites, podemos simplificarlo. Una forma de hacerlo es calcular cuántas maneras existen para descomponer el número 30 como una suma de números entre 1 y 6, lo cual se puede lograr mediante una función recursiva."
   ]
  },
  {
   "cell_type": "code",
   "execution_count": 3,
   "metadata": {
    "id": "iq6Fe32MgpDX",
    "scrolled": true
   },
   "outputs": [
    {
     "name": "stdout",
     "output_type": "stream",
     "text": [
      "Número de formas de agrupar 30 tomas en sesiones de 1 a 6 tomas: 437,513,522\n"
     ]
    }
   ],
   "source": [
    "# Calculamos de cuántas formas se puede dividir 30 en sumas de números entre 1 y 6\n",
    "@lru_cache(maxsize=None)\n",
    "def contar_formas(n):\n",
    "    if n == 0:\n",
    "        return 1\n",
    "    if n < 0:\n",
    "        return 0\n",
    "    total = 0\n",
    "    for i in range(1, 7):  # bloques de 1 a 6 tomas\n",
    "        total += contar_formas(n - i)\n",
    "    return total\n",
    "\n",
    "total_formas = contar_formas(30)\n",
    "print(f\"Número de formas de agrupar 30 tomas en sesiones de 1 a 6 tomas: {total_formas:,}\")\n"
   ]
  },
  {
   "cell_type": "markdown",
   "metadata": {},
   "source": [
    "**¿Cuantas posibilidades hay teniendo en cuenta todas las restricciones?**"
   ]
  },
  {
   "cell_type": "markdown",
   "metadata": {},
   "source": [
    "Para organizar las 30 tomas en sesiones de grabación, debemos cumplir con la restricción de que cada sesión no puede tener más de 6 tomas, y que las tomas dentro de una misma sesión deben ser compatibles en cuanto a los actores involucrados. Es decir, si dos tomas comparten actores, esos actores deben estar presentes durante toda la sesión.\n",
    "\n",
    "La solución más eficiente para este problema es un enfoque codicioso. En lugar de explorar todas las combinaciones posibles (lo que sería computacionalmente costoso), comenzamos ordenando las tomas según el número de actores que participan en ellas, priorizando las tomas con más actores. Luego, agrupamos las tomas en sesiones de hasta 6, asegurándonos de que los actores no se repitan en sesiones diferentes.\n",
    "\n",
    "Este método permite organizar las tomas de manera rápida y eficiente, respetando las restricciones, y minimizando el tiempo de ejecución. Aunque no garantiza la solución óptima en todos los casos, nos da una solución adecuada en menos tiempo, lo cual es clave cuando el problema involucra un número elevado de variables."
   ]
  },
  {
   "cell_type": "code",
   "execution_count": 4,
   "metadata": {},
   "outputs": [
    {
     "name": "stdout",
     "output_type": "stream",
     "text": [
      "Costo total mínimo estimado: 87 días\n",
      "Sesiones optimizadas:\n",
      "\n",
      "Día 1:\n",
      "Tomas: [1, 16] — Actores: [1, 2, 3, 4, 5, 10] — Costo: 6\n",
      "\n",
      "Día 2:\n",
      "Tomas: [10, 26] — Actores: [1, 2, 3, 4, 5, 6, 9] — Costo: 7\n",
      "\n",
      "Día 3:\n",
      "Tomas: [12] — Actores: [1, 2, 3, 4, 5] — Costo: 5\n",
      "\n",
      "Día 4:\n",
      "Tomas: [4] — Actores: [1, 2, 4, 5] — Costo: 4\n",
      "\n",
      "Día 5:\n",
      "Tomas: [6] — Actores: [1, 2, 3, 4] — Costo: 4\n",
      "\n",
      "Día 6:\n",
      "Tomas: [11, 21] — Actores: [1, 2, 3, 4, 5, 6] — Costo: 6\n",
      "\n",
      "Día 7:\n",
      "Tomas: [2, 19] — Actores: [1, 2, 3, 4, 5] — Costo: 5\n",
      "\n",
      "Día 8:\n",
      "Tomas: [3, 20] — Actores: [1, 2, 4, 5, 7] — Costo: 5\n",
      "\n",
      "Día 9:\n",
      "Tomas: [5, 17] — Actores: [1, 2, 3, 4, 5] — Costo: 5\n",
      "\n",
      "Día 10:\n",
      "Tomas: [7] — Actores: [1, 2, 5] — Costo: 3\n",
      "\n",
      "Día 11:\n",
      "Tomas: [8] — Actores: [1, 2, 5] — Costo: 3\n",
      "\n",
      "Día 12:\n",
      "Tomas: [9] — Actores: [1, 2, 5] — Costo: 3\n",
      "\n",
      "Día 13:\n",
      "Tomas: [13, 18] — Actores: [1, 2, 3, 4, 5] — Costo: 5\n",
      "\n",
      "Día 14:\n",
      "Tomas: [14, 27] — Actores: [1, 2, 3, 4, 5] — Costo: 5\n",
      "\n",
      "Día 15:\n",
      "Tomas: [15] — Actores: [1, 3, 5] — Costo: 3\n",
      "\n",
      "Día 16:\n",
      "Tomas: [22] — Actores: [1, 2, 5] — Costo: 3\n",
      "\n",
      "Día 17:\n",
      "Tomas: [23] — Actores: [1, 2, 3] — Costo: 3\n",
      "\n",
      "Día 18:\n",
      "Tomas: [25] — Actores: [1, 2, 3] — Costo: 3\n",
      "\n",
      "Día 19:\n",
      "Tomas: [29] — Actores: [1, 2, 5] — Costo: 3\n",
      "\n",
      "Día 20:\n",
      "Tomas: [24] — Actores: [2, 5] — Costo: 2\n",
      "\n",
      "Día 21:\n",
      "Tomas: [28] — Actores: [1, 5] — Costo: 2\n",
      "\n",
      "Día 22:\n",
      "Tomas: [30] — Actores: [1, 5] — Costo: 2\n"
     ]
    }
   ],
   "source": [
    "# Construir diccionario de tomas -> actores\n",
    "tomas_actores = {\n",
    "    row[\"Toma\"]: [i for i in range(1, 11) if row[f\"A{i}\"] == 1]\n",
    "    for _, row in df.iterrows()\n",
    "}\n",
    "\n",
    "# Ordenamos las tomas por el número de actores que participan, de mayor a menor\n",
    "tomas_ordenadas = sorted(tomas_actores.items(), key=lambda x: len(x[1]), reverse=True)\n",
    "\n",
    "# Inicializamos una lista para las sesiones\n",
    "sesiones = []\n",
    "\n",
    "# Función para intentar agrupar las tomas de manera eficiente\n",
    "def organizar_sesiones(tomas_ordenadas):\n",
    "    sesiones = []\n",
    "    tomas_restantes = set(tomas_actores.keys())\n",
    "\n",
    "    while tomas_restantes:\n",
    "        sesion = []\n",
    "        actores_involucrados = set()\n",
    "\n",
    "        # Vamos añadiendo tomas hasta el límite de 6 por sesión\n",
    "        for toma, actores in tomas_ordenadas:\n",
    "            if len(sesion) < 6 and toma in tomas_restantes and actores_involucrados.isdisjoint(actores):\n",
    "                sesion.append(toma)\n",
    "                actores_involucrados.update(actores)\n",
    "                tomas_restantes.remove(toma)\n",
    "\n",
    "        # Añadimos la sesión con las tomas seleccionadas\n",
    "        sesiones.append({\"tomas\": sesion, \"actores\": actores_involucrados, \"costo\": len(actores_involucrados)})\n",
    "    \n",
    "    return sesiones\n",
    "\n",
    "# Obtener las sesiones organizadas\n",
    "sesiones = organizar_sesiones(tomas_ordenadas)\n",
    "\n",
    "# Calcular el costo total\n",
    "costo_total = sum([sesion[\"costo\"] for sesion in sesiones])\n",
    "\n",
    "# Mostrar el resultado\n",
    "print(f\"Costo total mínimo estimado: {costo_total} días\")\n",
    "print(\"Sesiones optimizadas:\")\n",
    "for i, sesion in enumerate(sesiones):\n",
    "    print(f\"\\nDía {i+1}:\")\n",
    "    print(f\"Tomas: {sorted(sesion['tomas'])} — Actores: {sorted(sesion['actores'])} — Costo: {sesion['costo']}\")\n"
   ]
  },
  {
   "cell_type": "markdown",
   "metadata": {
    "id": "dzynfVJahHoY"
   },
   "source": [
    "Modelo para el espacio de soluciones<br>\n",
    "**(*) ¿Cual es la estructura de datos que mejor se adapta al problema? Argumentalo.(Es posible que hayas elegido una al principio y veas la necesidad de cambiar, arguentalo)**\n"
   ]
  },
  {
   "cell_type": "markdown",
   "metadata": {
    "id": "xFIJrOwKi2Ti"
   },
   "source": [
    "Para este problema, la estructura de datos más adecuada sería una lista de listas o un conjunto de diccionarios, y aquí te explico por qué:\n",
    "\n",
    "Primero, cada sesión se puede representar como un diccionario. Dentro de este diccionario, podemos almacenar las tomas involucradas, los actores correspondientes y el costo de la sesión. De esta manera, mantenemos de forma clara las configuraciones de las sesiones a medida que las vamos generando.\n",
    "\n",
    "Luego, las tomas se pueden organizar como claves dentro de otro diccionario. El valor asociado a cada toma sería una lista con los actores que participan en ella. Esto facilita el acceso a la información sobre qué actores están en qué toma, lo cual es fundamental para verificar si las tomas son compatibles entre sí cuando las agrupamos en sesiones.\n",
    "\n",
    "Además, el uso de listas o diccionarios es eficiente tanto para insertar nuevos elementos como para buscar elementos ya existentes. Las listas son perfectas para gestionar los grupos de sesiones y las combinaciones de tomas, mientras que los diccionarios permiten un acceso rápido a las relaciones entre las tomas y los actores involucrados.\n",
    "\n",
    "Aunque al principio se podría haber pensado en usar una matriz para representar las tomas y los actores, un diccionario resulta más flexible y eficiente, ya que solo necesitamos saber qué actores participan en cada toma y verificar su compatibilidad. Esto optimiza el uso de memoria y el tiempo de acceso, haciendo que el enfoque con diccionarios sea más adecuado para este problema."
   ]
  },
  {
   "cell_type": "code",
   "execution_count": 5,
   "metadata": {
    "id": "38c-7-ejhJmA"
   },
   "outputs": [
    {
     "name": "stdout",
     "output_type": "stream",
     "text": [
      "Costo total mínimo estimado: 87 días\n",
      "Sesiones optimizadas:\n",
      "\n",
      "Día 1:\n",
      "Tomas: [1, 16] — Actores: [1, 2, 3, 4, 5, 10] — Costo: 6\n",
      "\n",
      "Día 2:\n",
      "Tomas: [2, 19] — Actores: [1, 2, 3, 4, 5] — Costo: 5\n",
      "\n",
      "Día 3:\n",
      "Tomas: [3, 20] — Actores: [1, 2, 4, 5, 7] — Costo: 5\n",
      "\n",
      "Día 4:\n",
      "Tomas: [4] — Actores: [1, 2, 4, 5] — Costo: 4\n",
      "\n",
      "Día 5:\n",
      "Tomas: [5, 17] — Actores: [1, 2, 3, 4, 5] — Costo: 5\n",
      "\n",
      "Día 6:\n",
      "Tomas: [6] — Actores: [1, 2, 3, 4] — Costo: 4\n",
      "\n",
      "Día 7:\n",
      "Tomas: [7] — Actores: [1, 2, 5] — Costo: 3\n",
      "\n",
      "Día 8:\n",
      "Tomas: [8] — Actores: [1, 2, 5] — Costo: 3\n",
      "\n",
      "Día 9:\n",
      "Tomas: [9] — Actores: [1, 2, 5] — Costo: 3\n",
      "\n",
      "Día 10:\n",
      "Tomas: [10, 26] — Actores: [1, 2, 3, 4, 5, 6, 9] — Costo: 7\n",
      "\n",
      "Día 11:\n",
      "Tomas: [11, 21] — Actores: [1, 2, 3, 4, 5, 6] — Costo: 6\n",
      "\n",
      "Día 12:\n",
      "Tomas: [12] — Actores: [1, 2, 3, 4, 5] — Costo: 5\n",
      "\n",
      "Día 13:\n",
      "Tomas: [13, 18] — Actores: [1, 2, 3, 4, 5] — Costo: 5\n",
      "\n",
      "Día 14:\n",
      "Tomas: [14, 27] — Actores: [1, 2, 3, 4, 5] — Costo: 5\n",
      "\n",
      "Día 15:\n",
      "Tomas: [15] — Actores: [1, 3, 5] — Costo: 3\n",
      "\n",
      "Día 16:\n",
      "Tomas: [22] — Actores: [1, 2, 5] — Costo: 3\n",
      "\n",
      "Día 17:\n",
      "Tomas: [23] — Actores: [1, 2, 3] — Costo: 3\n",
      "\n",
      "Día 18:\n",
      "Tomas: [24] — Actores: [2, 5] — Costo: 2\n",
      "\n",
      "Día 19:\n",
      "Tomas: [25] — Actores: [1, 2, 3] — Costo: 3\n",
      "\n",
      "Día 20:\n",
      "Tomas: [28] — Actores: [1, 5] — Costo: 2\n",
      "\n",
      "Día 21:\n",
      "Tomas: [29] — Actores: [1, 2, 5] — Costo: 3\n",
      "\n",
      "Día 22:\n",
      "Tomas: [30] — Actores: [1, 5] — Costo: 2\n"
     ]
    }
   ],
   "source": [
    "# Construir diccionario de tomas -> actores\n",
    "tomas_actores = {\n",
    "    row[\"Toma\"]: [i for i in range(1, 11) if row[f\"A{i}\"] == 1]\n",
    "    for _, row in df.iterrows()\n",
    "}\n",
    "\n",
    "# Lista de sesiones\n",
    "sesiones = []\n",
    "\n",
    "# Función para organizar las tomas en sesiones compatibles\n",
    "def organizar_sesiones(tomas_actores):\n",
    "    tomas_restantes = set(tomas_actores.keys())\n",
    "    \n",
    "    while tomas_restantes:\n",
    "        sesion = []\n",
    "        actores_involucrados = set()\n",
    "\n",
    "        # Agrupar tomas en sesiones de hasta 6, respetando la compatibilidad de actores\n",
    "        for toma, actores in tomas_actores.items():\n",
    "            if len(sesion) < 6 and toma in tomas_restantes and actores_involucrados.isdisjoint(actores):\n",
    "                sesion.append(toma)\n",
    "                actores_involucrados.update(actores)\n",
    "                tomas_restantes.remove(toma)\n",
    "\n",
    "        # Añadir la sesión a la lista de sesiones\n",
    "        sesiones.append({\"tomas\": sesion, \"actores\": actores_involucrados, \"costo\": len(actores_involucrados)})\n",
    "    \n",
    "    return sesiones\n",
    "\n",
    "# Obtener las sesiones organizadas\n",
    "sesiones = organizar_sesiones(tomas_actores)\n",
    "\n",
    "# Calcular el costo total\n",
    "costo_total = sum([sesion[\"costo\"] for sesion in sesiones])\n",
    "\n",
    "# Mostrar el resultado\n",
    "print(f\"Costo total mínimo estimado: {costo_total} días\")\n",
    "print(\"Sesiones optimizadas:\")\n",
    "for i, sesion in enumerate(sesiones):\n",
    "    print(f\"\\nDía {i+1}:\")\n",
    "    print(f\"Tomas: {sorted(sesion['tomas'])} — Actores: {sorted(sesion['actores'])} — Costo: {sesion['costo']}\")\n"
   ]
  },
  {
   "cell_type": "markdown",
   "metadata": {
    "id": "7Z9U2W7bi-XS"
   },
   "source": [
    "Según el modelo para el espacio de soluciones<br>\n",
    "**(*)¿Cual es la función objetivo?**"
   ]
  },
  {
   "attachments": {
    "17295d0f-858e-491c-b73e-171d742b3f99.png": {
     "image/png": "[encoded data removed]"
    }
   },
   "cell_type": "markdown",
   "metadata": {},
   "source": [
    "En este caso, el objetivo es minimizar el costo total de las sesiones de grabación. Este costo se calcula en función de la cantidad de actores necesarios para cada sesión, ya que el pago por actor es fijo por día, sin importar cuántas tomas realicen. Así que, el desafío es reducir el número de actores que participan en cada sesión para mantener los costos lo más bajos posibles.\n",
    "\n",
    "En términos simples, la función objetivo sería algo como:\n",
    "![image.png](attachment:17295d0f-858e-491c-b73e-171d742b3f99.png) <br>\n",
    "Donde n representa el número total de sesiones, y para cada sesión se cuenta cuántos actores son necesarios."
   ]
  },
  {
   "cell_type": "markdown",
   "metadata": {},
   "source": [
    "**(*)¿Es un problema de maximización o minimización?**"
   ]
  },
  {
   "attachments": {},
   "cell_type": "markdown",
   "metadata": {
    "id": "hBalWLM7j1_d"
   },
   "source": [
    "Este es un problema de minimización. Lo que buscamos es reducir al máximo el costo, lo que implica minimizar el número de actores involucrados a lo largo de todas las sesiones. Aunque existen restricciones, como la compatibilidad de actores entre tomas, la prioridad sigue siendo mantener el costo lo más bajo posible, evitando duplicar la presencia de actores innecesariamente."
   ]
  },
  {
   "cell_type": "markdown",
   "metadata": {
    "id": "rlnTYgY1j6I2"
   },
   "source": [
    "Diseña un algoritmo para resolver el problema por fuerza bruta"
   ]
  },
  {
   "cell_type": "markdown",
   "metadata": {
    "id": "70rDgxYXkC8r"
   },
   "source": [
    "Respuesta"
   ]
  },
  {
   "cell_type": "code",
   "execution_count": null,
   "metadata": {
    "id": "CJb5sQ0qkENy"
   },
   "outputs": [],
   "source": []
  },
  {
   "cell_type": "markdown",
   "metadata": {
    "id": "tgrnsC2nkFa8"
   },
   "source": [
    "Calcula la complejidad del algoritmo por fuerza bruta"
   ]
  },
  {
   "cell_type": "markdown",
   "metadata": {
    "id": "9eUd3xwckP68"
   },
   "source": [
    "Respuesta"
   ]
  },
  {
   "cell_type": "code",
   "execution_count": null,
   "metadata": {
    "id": "rvZWwL-ckRST"
   },
   "outputs": [],
   "source": []
  },
  {
   "cell_type": "markdown",
   "metadata": {
    "id": "txbrmLmskReM"
   },
   "source": [
    "**(*)Diseña un algoritmo que mejore la complejidad del algortimo por fuerza bruta. Argumenta porque crees que mejora el algoritmo por fuerza bruta**"
   ]
  },
  {
   "cell_type": "markdown",
   "metadata": {
    "id": "hLrVwt5QkZPD"
   },
   "source": [
    "La razón por la cual no estamos utilizando la fuerza bruta es que el número de combinaciones posibles es extremadamente grande y no sería práctico probar todas las opciones. La fuerza bruta tendría una complejidad exponencial, lo que haría que el tiempo de procesamiento fuera inaceptable, especialmente cuando hablamos de 30 tomas, donde el número de combinaciones crecería rápidamente.\n",
    "\n",
    "En lugar de eso, hemos optado por un enfoque más eficiente. Usamos un enfoque codicioso, donde tomamos decisiones locales basadas en reglas, como agregar tomas a una sesión solo si son compatibles con las tomas ya presentes en esa sesión. Esto nos ayuda a reducir el espacio de búsqueda y mejora la eficiencia del algoritmo.\n",
    "\n",
    "Además, implementamos el algoritmo First-Fit Decreasing (FFD), un enfoque aproximado que nos permite agrupar las tomas de manera más eficiente. Primero ordenamos las tomas según la cantidad de actores involucrados y luego intentamos agruparlas en sesiones de manera que se minimice la cantidad de actores necesarios. Este enfoque no prueba todas las combinaciones posibles, sino que realiza agrupamientos inteligentes para encontrar una solución eficiente, sin perder demasiado tiempo en cálculos innecesarios."
   ]
  },
  {
   "cell_type": "code",
   "execution_count": 6,
   "metadata": {
    "id": "m1eyM21Vkabg"
   },
   "outputs": [
    {
     "name": "stdout",
     "output_type": "stream",
     "text": [
      "Costo total estimado: 87 días\n",
      "Sesiones optimizadas:\n",
      "\n",
      "Día 1:\n",
      "Tomas: [1, 16] — Actores: [1, 2, 3, 4, 5, 10] — Costo: 6\n",
      "\n",
      "Día 2:\n",
      "Tomas: [10, 26] — Actores: [1, 2, 3, 4, 5, 6, 9] — Costo: 7\n",
      "\n",
      "Día 3:\n",
      "Tomas: [12] — Actores: [1, 2, 3, 4, 5] — Costo: 5\n",
      "\n",
      "Día 4:\n",
      "Tomas: [4] — Actores: [1, 2, 4, 5] — Costo: 4\n",
      "\n",
      "Día 5:\n",
      "Tomas: [6] — Actores: [1, 2, 3, 4] — Costo: 4\n",
      "\n",
      "Día 6:\n",
      "Tomas: [11, 21] — Actores: [1, 2, 3, 4, 5, 6] — Costo: 6\n",
      "\n",
      "Día 7:\n",
      "Tomas: [2, 19] — Actores: [1, 2, 3, 4, 5] — Costo: 5\n",
      "\n",
      "Día 8:\n",
      "Tomas: [3, 20] — Actores: [1, 2, 4, 5, 7] — Costo: 5\n",
      "\n",
      "Día 9:\n",
      "Tomas: [5, 17] — Actores: [1, 2, 3, 4, 5] — Costo: 5\n",
      "\n",
      "Día 10:\n",
      "Tomas: [7] — Actores: [1, 2, 5] — Costo: 3\n",
      "\n",
      "Día 11:\n",
      "Tomas: [8] — Actores: [1, 2, 5] — Costo: 3\n",
      "\n",
      "Día 12:\n",
      "Tomas: [9] — Actores: [1, 2, 5] — Costo: 3\n",
      "\n",
      "Día 13:\n",
      "Tomas: [13, 18] — Actores: [1, 2, 3, 4, 5] — Costo: 5\n",
      "\n",
      "Día 14:\n",
      "Tomas: [14, 27] — Actores: [1, 2, 3, 4, 5] — Costo: 5\n",
      "\n",
      "Día 15:\n",
      "Tomas: [15] — Actores: [1, 3, 5] — Costo: 3\n",
      "\n",
      "Día 16:\n",
      "Tomas: [22] — Actores: [1, 2, 5] — Costo: 3\n",
      "\n",
      "Día 17:\n",
      "Tomas: [23] — Actores: [1, 2, 3] — Costo: 3\n",
      "\n",
      "Día 18:\n",
      "Tomas: [25] — Actores: [1, 2, 3] — Costo: 3\n",
      "\n",
      "Día 19:\n",
      "Tomas: [29] — Actores: [1, 2, 5] — Costo: 3\n",
      "\n",
      "Día 20:\n",
      "Tomas: [24] — Actores: [2, 5] — Costo: 2\n",
      "\n",
      "Día 21:\n",
      "Tomas: [28] — Actores: [1, 5] — Costo: 2\n",
      "\n",
      "Día 22:\n",
      "Tomas: [30] — Actores: [1, 5] — Costo: 2\n"
     ]
    }
   ],
   "source": [
    "# Construir diccionario de tomas -> actores\n",
    "tomas_actores = {\n",
    "    row[\"Toma\"]: [i for i in range(1, 11) if row[f\"A{i}\"] == 1]\n",
    "    for _, row in df.iterrows()\n",
    "}\n",
    "\n",
    "# Ordenar las tomas por el número de actores involucrados (de más a menos)\n",
    "tomas_ordenadas = sorted(tomas_actores.items(), key=lambda x: len(x[1]), reverse=True)\n",
    "\n",
    "# Lista de sesiones\n",
    "sesiones = []\n",
    "\n",
    "# Función para organizar las tomas en sesiones utilizando el algoritmo FFD\n",
    "def organizar_sesiones(tomas_actores):\n",
    "    tomas_restantes = set(tomas_actores.keys())\n",
    "    \n",
    "    while tomas_restantes:\n",
    "        sesion = []\n",
    "        actores_involucrados = set()\n",
    "\n",
    "        # Intentamos agregar las tomas a sesiones existentes\n",
    "        for toma, actores in tomas_ordenadas:\n",
    "            if toma in tomas_restantes:\n",
    "                # Si la sesión tiene menos de 6 tomas y no se repiten actores\n",
    "                if len(sesion) < 6 and actores_involucrados.isdisjoint(actores):\n",
    "                    sesion.append(toma)\n",
    "                    actores_involucrados.update(actores)\n",
    "                    tomas_restantes.remove(toma)\n",
    "\n",
    "        # Añadir la sesión a la lista de sesiones\n",
    "        sesiones.append({\"tomas\": sesion, \"actores\": actores_involucrados, \"costo\": len(actores_involucrados)})\n",
    "\n",
    "    return sesiones\n",
    "\n",
    "# Obtener las sesiones organizadas\n",
    "sesiones = organizar_sesiones(tomas_actores)\n",
    "\n",
    "# Calcular el costo total\n",
    "costo_total = sum([sesion[\"costo\"] for sesion in sesiones])\n",
    "\n",
    "# Mostrar el resultado\n",
    "print(f\"Costo total estimado: {costo_total} días\")\n",
    "print(\"Sesiones optimizadas:\")\n",
    "for i, sesion in enumerate(sesiones):\n",
    "    print(f\"\\nDía {i+1}:\")\n",
    "    print(f\"Tomas: {sorted(sesion['tomas'])} — Actores: {sorted(sesion['actores'])} — Costo: {sesion['costo']}\")\n"
   ]
  },
  {
   "cell_type": "markdown",
   "metadata": {
    "id": "eGDB4K6uk1iN"
   },
   "source": [
    "**(*)Calcula la complejidad del algoritmo**"
   ]
  },
  {
   "attachments": {},
   "cell_type": "markdown",
   "metadata": {
    "id": "NhpTh_BPk1ms"
   },
   "source": [
    "El algoritmo que hemos implementado, basado en un enfoque codicioso conocido como First-Fit Decreasing (FFD), nos permite organizar las tomas en sesiones de grabación de manera mucho más eficiente que si intentáramos explorar todas las combinaciones posibles. Esto reduce considerablemente la complejidad del problema.\n",
    "\n",
    "El proceso comienza con la ordenación de las tomas, que se realiza en función del número de actores involucrados en cada una. Este paso tiene una complejidad de O(n log n), donde n es el número total de tomas. El objetivo de ordenar las tomas de esta manera es asegurarnos de que las que involucran más actores se procesen primero, lo cual facilita el posterior agrupamiento.\n",
    "\n",
    "Después, para cada toma, tratamos de asignarla a una sesión que ya exista, siempre y cuando sea compatible con las tomas previamente asignadas a esa sesión. Si no es posible, se crea una nueva sesión. Verificar la compatibilidad de una toma con las sesiones existentes tiene una complejidad de O(k), donde k es el número de sesiones en ese momento. En el peor de los casos, el número de sesiones no superará n/6, ya que no podemos asignar más de seis tomas a cada sesión. Esto hace que la complejidad total del algoritmo sea O(n log n + n ⋅ k), donde k es como máximo n/6.\n",
    "\n",
    "Al tener k limitado por n/6, la complejidad general del algoritmo se aproxima a O(n^2), lo cual es mucho más eficiente que una solución de fuerza bruta, que tendría una complejidad exponencial. Aunque este enfoque no garantiza encontrar la solución óptima, nos permite llegar a una solución suficientemente buena en un tiempo razonable. Así, el algoritmo codicioso es una opción práctica y escalable para abordar problemas de agrupamiento como el que estamos resolviendo."
   ]
  },
  {
   "cell_type": "code",
   "execution_count": null,
   "metadata": {
    "id": "nREzhkStlCq8"
   },
   "outputs": [],
   "source": []
  },
  {
   "cell_type": "markdown",
   "metadata": {
    "id": "3M6QjTsSkmYe"
   },
   "source": [
    "**Según el problema (y tenga sentido), diseña un juego de datos de entrada aleatorios**"
   ]
  },
  {
   "cell_type": "markdown",
   "metadata": {
    "id": "Jc3_OlyNkvjZ"
   },
   "source": [
    "Respuesta"
   ]
  },
  {
   "cell_type": "code",
   "execution_count": 7,
   "metadata": {
    "id": "sJ-N2etjkyWc"
   },
   "outputs": [
    {
     "name": "stdout",
     "output_type": "stream",
     "text": [
      "  Toma  A1  A2  A3  A4  A5  A6  A7  A8  A9  A10\n",
      "0   T1   0   0   0   0   0   1   1   1   1    1\n",
      "1   T2   0   0   1   0   1   0   0   0   0    0\n",
      "2   T3   0   0   1   1   0   0   0   0   0    0\n",
      "3   T4   0   0   0   1   1   1   0   0   0    0\n",
      "4   T5   0   0   0   1   1   0   0   0   0    0\n"
     ]
    }
   ],
   "source": [
    "# Parámetros\n",
    "num_tomas = 30\n",
    "num_actores = 10\n",
    "\n",
    "# Generar datos aleatorios para la matriz de actores/tomas\n",
    "tomas_actores = []\n",
    "\n",
    "# Generamos las tomas\n",
    "for _ in range(num_tomas):\n",
    "    actores_en_toma = random.sample(range(1, num_actores + 1), random.randint(1, 6))  # de 1 a 6 actores por toma\n",
    "    toma = [1 if i+1 in actores_en_toma else 0 for i in range(num_actores)]\n",
    "    tomas_actores.append(toma)\n",
    "\n",
    "# Crear un DataFrame\n",
    "df = pd.DataFrame(tomas_actores, columns=[f\"A{i+1}\" for i in range(num_actores)])\n",
    "\n",
    "# Añadir una columna de toma para referencia\n",
    "df[\"Toma\"] = [f\"T{i+1}\" for i in range(num_tomas)]\n",
    "df = df[[\"Toma\"] + [f\"A{i+1}\" for i in range(num_actores)]]\n",
    "\n",
    "# Mostrar los primeros 5 registros\n",
    "print(df.head())\n",
    "\n",
    "# Guardar el archivo CSV\n",
    "df.to_csv(\"tomas_actores_random.csv\", index=False)\n"
   ]
  },
  {
   "cell_type": "markdown",
   "metadata": {
    "id": "zy5ZROmjlGo1"
   },
   "source": [
    "**Aplica el algoritmo al juego de datos generado**"
   ]
  },
  {
   "cell_type": "markdown",
   "metadata": {
    "id": "_Cmj-PVylMsa"
   },
   "source": [
    "Respuesta"
   ]
  },
  {
   "cell_type": "code",
   "execution_count": 8,
   "metadata": {
    "id": "Jkx8GeiYlUz1"
   },
   "outputs": [
    {
     "name": "stdout",
     "output_type": "stream",
     "text": [
      "Sesión 1:\n",
      "  Tomas: ['T23', 'T25', 'T27', 'T29', 'T1', 'T9', 'T10', 'T12', 'T14', 'T18', 'T19', 'T20', 'T24', 'T28', 'T21', 'T4', 'T7', 'T11', 'T13', 'T22', 'T2', 'T3', 'T5', 'T6', 'T8', 'T15', 'T16', 'T17', 'T26', 'T30']\n",
      "  Actores: [1, 2, 3, 4, 5, 6, 7, 8, 9, 10]\n",
      "\n"
     ]
    }
   ],
   "source": [
    "# Cargar el archivo CSV generado con los datos aleatorios\n",
    "df2 = pd.read_csv(\"tomas_actores_random.csv\")\n",
    "\n",
    "# Convertir la matriz de actores en un diccionario de toma -> actores\n",
    "tomas_actores = {\n",
    "    row[\"Toma\"]: [i for i in range(1, 11) if row[f\"A{i}\"] == 1]\n",
    "    for _, row in df2.iterrows()\n",
    "}\n",
    "\n",
    "# Ordenar las tomas por la cantidad de actores involucrados (para aplicar el algoritmo codicioso)\n",
    "tomas_ordenadas = sorted(tomas_actores.items(), key=lambda x: len(x[1]), reverse=True)\n",
    "\n",
    "# Inicializar la lista de sesiones\n",
    "sesiones = []\n",
    "\n",
    "# Algoritmo codicioso\n",
    "for toma, actores in tomas_ordenadas:\n",
    "    # Intentar añadir la toma a una sesión existente\n",
    "    session_added = False\n",
    "    for sesion in sesiones:\n",
    "        # Si la toma es compatible con la sesión (comparten actores)\n",
    "        if not set(actores).isdisjoint(set(sesion[\"actores\"])):\n",
    "            sesion[\"tomas\"].append(toma)\n",
    "            sesion[\"actores\"].update(actores)\n",
    "            session_added = True\n",
    "            break\n",
    "\n",
    "    # Si no se pudo añadir a una sesión existente, crear una nueva sesión\n",
    "    if not session_added:\n",
    "        sesiones.append({\n",
    "            \"tomas\": [toma],\n",
    "            \"actores\": set(actores)\n",
    "        })\n",
    "\n",
    "# Mostrar las sesiones organizadas\n",
    "for i, sesion in enumerate(sesiones):\n",
    "    print(f\"Sesión {i+1}:\")\n",
    "    print(f\"  Tomas: {sesion['tomas']}\")\n",
    "    print(f\"  Actores: {sorted(sesion['actores'])}\")\n",
    "    print()"
   ]
  },
  {
   "cell_type": "markdown",
   "metadata": {
    "id": "eTFWUJQrtGcv"
   },
   "source": [
    "**Enumera las referencias que has utilizado(si ha sido necesario) para llevar a cabo el trabajo**"
   ]
  },
  {
   "cell_type": "markdown",
   "metadata": {
    "id": "YKQ_mRBttWsP"
   },
   "source": [
    "- https://docs.python.org/3/tutorial/datastructures.html\n",
    "- https://docs.python.org/3/library/random.html\n",
    "- https://docs.python.org/3/library/itertools.html\n",
    "- Introduction to Algorithms de Thomas H. Cormen, Charles E. Leiserson, Ronald L. Rivest, y Clifford Stein.\n",
    "- Algorithm Design Manual de Steven S. Skiena."
   ]
  },
  {
   "cell_type": "markdown",
   "metadata": {
    "id": "kAkDPUyRtYyH"
   },
   "source": [
    "**Describe brevemente las lineas de como crees que es posible avanzar en el estudio del problema. Ten en cuenta incluso posibles variaciones del problema y/o variaciones al alza del tamaño**"
   ]
  },
  {
   "cell_type": "markdown",
   "metadata": {
    "id": "IE0uZmo-tZu-"
   },
   "source": [
    "Para avanzar en el estudio de este problema y manejar variaciones más complejas o de mayor tamaño, hay varias líneas que se pueden explorar:\n",
    "\n",
    "1. **Escalabilidad y Manejo de Problemas Más Grandes**:\n",
    "   - ***Optimización Exacta***: Si el número de tomas y actores aumenta, los métodos de fuerza bruta o incluso los codiciosos podrían volverse ineficaces. Una buena opción sería usar programación lineal entera (MILP), que permite formular el problema con variables binarias y encontrar la solución óptima dentro de un espacio de soluciones más grande.\n",
    "   - ***Soluciones Aproximadas***: Cuando el tamaño es muy grande, podemos optar por algoritmos de aproximación, como los algoritmos genéticos, que imitan la evolución para encontrar buenas soluciones, o el recocido simulado, que ayuda a escapar de soluciones subóptimas.\n",
    "\n",
    "2. **Optimización del Costo**:\n",
    "   - Además de reducir el número de días de grabación, podríamos optimizar cómo se distribuyen los actores entre las sesiones, equilibrando su carga de trabajo para que no haya actores trabajando más de la cuenta. Esto podría dar lugar a una solución más eficiente y justa.\n",
    "\n",
    "3. **Variaciones del Problema**:\n",
    "   - Se podrían cambiar las restricciones, como la cantidad de tomas que caben en una sesión, lo que podría afectar las soluciones. Por ejemplo, en lugar de un máximo de 6 tomas, probar con un rango de 5 a 10 tomas podría cambiar por completo el comportamiento del algoritmo.\n",
    "   - Si introducimos limitaciones de tiempo (por ejemplo, ciertas tomas deben grabarse antes de otras), el problema se complica aún más, y necesitaríamos un enfoque diferente para solucionarlo.\n",
    "\n",
    "4. **Simulación y Análisis**:\n",
    "   - Realizar simulaciones con diferentes configuraciones de actores y tomas sería útil para ver cómo cambian los resultados según el tamaño del problema. Así, podríamos identificar patrones que no son obvios solo con los cálculos.\n",
    "\n",
    "5. **Uso de Herramientas Avanzadas**:\n",
    "   - Herramientas como Google OR-Tools o frameworks de optimización combinatoria pueden ser de gran ayuda. Estas bibliotecas están diseñadas específicamente para manejar problemas grandes y complejos de manera más eficiente que los enfoques más sencillos.\n",
    "\n",
    "6. **Visualización**:\n",
    "   - Una manera muy útil de entender cómo va evolucionando la solución es visualizar las sesiones de grabación. Esto nos puede ayudar a detectar problemas o áreas de mejora en las soluciones que no serían evidentes solo con los números.\n",
    "\n",
    "En resumen, para avanzar con este problema, lo mejor sería considerar soluciones más sofisticadas que nos permitan manejar mayores volúmenes de datos y restricciones, y también explorar diferentes configuraciones y enfoques que nos ayuden a obtener soluciones más óptimas de manera más eficiente."
   ]
  },
  {
   "cell_type": "code",
   "execution_count": null,
   "metadata": {},
   "outputs": [],
   "source": []
  }
 ],
 "metadata": {
  "colab": {
   "provenance": []
  },
  "kernelspec": {
   "display_name": "Python 3 (ipykernel)",
   "language": "python",
   "name": "python3"
  },
  "language_info": {
   "codemirror_mode": {
    "name": "ipython",
    "version": 3
   },
   "file_extension": ".py",
   "mimetype": "text/x-python",
   "name": "python",
   "nbconvert_exporter": "python",
   "pygments_lexer": "ipython3",
   "version": "3.12.7"
  }
 },
 "nbformat": 4,
 "nbformat_minor": 4
}
